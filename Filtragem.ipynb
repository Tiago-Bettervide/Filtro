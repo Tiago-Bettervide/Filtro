{
  "nbformat": 4,
  "nbformat_minor": 0,
  "metadata": {
    "colab": {
      "provenance": []
    },
    "kernelspec": {
      "name": "python3",
      "display_name": "Python 3"
    },
    "language_info": {
      "name": "python"
    }
  },
  "cells": [
    {
      "cell_type": "code",
      "execution_count": 1,
      "metadata": {
        "id": "NkXlQQ-1-ue8"
      },
      "outputs": [],
      "source": [
        "import pandas as pd"
      ]
    },
    {
      "cell_type": "code",
      "source": [
        "from google.colab import drive"
      ],
      "metadata": {
        "id": "pkGNNcBY-zEI"
      },
      "execution_count": 2,
      "outputs": []
    },
    {
      "cell_type": "code",
      "source": [
        "import os"
      ],
      "metadata": {
        "id": "vNWH9SmvDUxO"
      },
      "execution_count": 3,
      "outputs": []
    },
    {
      "cell_type": "code",
      "source": [
        "drive.mount('/content/drive')\n"
      ],
      "metadata": {
        "colab": {
          "base_uri": "https://localhost:8080/"
        },
        "id": "mXULtnLo-4ie",
        "outputId": "3e352c9a-881e-4718-f6d7-1b823e2bb2cd"
      },
      "execution_count": 4,
      "outputs": [
        {
          "output_type": "stream",
          "name": "stdout",
          "text": [
            "Mounted at /content/drive\n"
          ]
        }
      ]
    },
    {
      "cell_type": "code",
      "source": [
        "caminho_primeiro_arquivo = '/content/drive/My Drive/Excel/Landsat_ARG_T2.csv'\n",
        "caminho_segundo_arquivo = '/content/drive/My Drive/Excel/arquivo_combinado.csv'\n",
        "\n",
        "\n",
        "df_incompleto = pd.read_csv(caminho_primeiro_arquivo)\n",
        "\n",
        "\n",
        "df_completo = pd.read_csv(caminho_segundo_arquivo)\n",
        "\n",
        "\n",
        "coluna_id = 'ID'\n",
        "\n",
        "\n",
        "print(\"Quantidade de IDs únicos no arquivo incompleto:\", df_incompleto[coluna_id].nunique())\n",
        "print(\"Quantidade de IDs únicos no arquivo completo:\", df_completo[coluna_id].nunique())\n",
        "\n",
        "\n",
        "df_incompleto[coluna_id] = df_incompleto[coluna_id].str.strip().str.upper()\n",
        "df_completo[coluna_id] = df_completo[coluna_id].str.strip().str.upper()\n",
        "\n",
        "\n",
        "df_filtrado = df_completo[~df_completo[coluna_id].isin(df_incompleto[coluna_id])]\n",
        "\n",
        "\n",
        "print(f\"Linhas no DataFrame filtrado: {len(df_filtrado)}\")\n",
        "print(\"Quantidade de IDs removidos:\", len(df_completo) - len(df_filtrado))\n",
        "\n",
        "\n",
        "#caminho_arquivo_filtrado = '/content/drive/My Drive/Excel/arquivo_filtrado.csv'\n",
        "#df_filtrado.to_csv(caminho_arquivo_filtrado, index=False)\n",
        "\n",
        "#print(f\"Arquivo filtrado salvo em: {caminho_arquivo_filtrado}\")\n",
        "\n"
      ],
      "metadata": {
        "colab": {
          "base_uri": "https://localhost:8080/"
        },
        "id": "tCN5zRDMIuQj",
        "outputId": "e74d6c1d-0585-44ad-e762-7aa6323ee8b6"
      },
      "execution_count": 5,
      "outputs": [
        {
          "output_type": "stream",
          "name": "stdout",
          "text": [
            "Quantidade de IDs únicos no arquivo incompleto: 3493\n",
            "Quantidade de IDs únicos no arquivo completo: 20082\n",
            "Linhas no DataFrame filtrado: 16831\n",
            "Quantidade de IDs removidos: 3251\n"
          ]
        }
      ]
    },
    {
      "cell_type": "code",
      "source": [],
      "metadata": {
        "id": "hydMs4lOHm48"
      },
      "execution_count": 6,
      "outputs": []
    },
    {
      "cell_type": "code",
      "source": [
        "print(\"IDs duplicados no arquivo completo:\")\n",
        "print(df_completo[coluna_id][df_completo[coluna_id].duplicated()].unique())\n"
      ],
      "metadata": {
        "colab": {
          "base_uri": "https://localhost:8080/"
        },
        "id": "7VOEGGedH7ui",
        "outputId": "3b864a18-4404-4f54-ffbe-0ff99d4b27a9"
      },
      "execution_count": 6,
      "outputs": [
        {
          "output_type": "stream",
          "name": "stdout",
          "text": [
            "IDs duplicados no arquivo completo:\n",
            "[]\n"
          ]
        }
      ]
    },
    {
      "cell_type": "code",
      "source": [
        "ids_comum = df_incompleto[coluna_id].isin(df_completo[coluna_id])\n",
        "print(\"Quantidade de IDs do arquivo incompleto que estão no completo:\", ids_comum.sum())\n"
      ],
      "metadata": {
        "colab": {
          "base_uri": "https://localhost:8080/"
        },
        "id": "yjtWk-e2H9h7",
        "outputId": "0ed3afe8-762d-46bf-801a-b562820b1e3e"
      },
      "execution_count": 7,
      "outputs": [
        {
          "output_type": "stream",
          "name": "stdout",
          "text": [
            "Quantidade de IDs do arquivo incompleto que estão no completo: 3251\n"
          ]
        }
      ]
    },
    {
      "cell_type": "code",
      "source": [
        "caminho_pasta = '/content/drive/My Drive/Excel'\n",
        "\n",
        "\n",
        "arquivos = os.listdir(caminho_pasta)\n",
        "\n",
        "\n",
        "for arquivo in arquivos:\n",
        "    print(arquivo)"
      ],
      "metadata": {
        "colab": {
          "base_uri": "https://localhost:8080/"
        },
        "id": "Xm0h_dxnjP5f",
        "outputId": "43514ed4-c082-4f8f-8e4f-65d72cbf0b6d"
      },
      "execution_count": null,
      "outputs": [
        {
          "output_type": "stream",
          "name": "stdout",
          "text": [
            "Landsat_ARG_T2.csv\n",
            "Landsat_ARG_T2.gsheet\n",
            "arquivo_combinado_copia.xlsx\n"
          ]
        }
      ]
    }
  ]
}