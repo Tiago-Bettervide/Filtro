{
  "nbformat": 4,
  "nbformat_minor": 0,
  "metadata": {
    "colab": {
      "provenance": []
    },
    "kernelspec": {
      "name": "python3",
      "display_name": "Python 3"
    },
    "language_info": {
      "name": "python"
    }
  },
  "cells": [
    {
      "cell_type": "code",
      "execution_count": null,
      "metadata": {
        "id": "7NXogR8kFbsb"
      },
      "outputs": [],
      "source": [
        "import os\n",
        "import glob\n",
        "import pandas as pd\n",
        "from google.colab import drive\n"
      ]
    },
    {
      "cell_type": "code",
      "source": [
        "drive.mount('/content/drive')\n",
        "\n",
        "os.chdir('/content/drive/My Drive/Excel_1')\n",
        "\n",
        "\n",
        "csv_files = glob.glob(\"*.csv\")\n",
        "\n",
        "\n",
        "print(f\"Arquivos CSV encontrados: {csv_files}\")\n",
        "\n",
        "\n",
        "df_list = [pd.read_csv(file, encoding='latin1') for file in csv_files]\n",
        "df_combined = pd.concat(df_list, ignore_index=True)\n",
        "\n",
        "\n",
        "df_combined.drop_duplicates(inplace=True)\n",
        "\n",
        "output_file_path = '/content/drive/My Drive/Excel_1/arquivo_combinado.csv'\n",
        "\n",
        "df_combined.to_csv(output_file_path, index=False)\n",
        "\n",
        "print(df_combined.head())\n"
      ],
      "metadata": {
        "colab": {
          "base_uri": "https://localhost:8080/"
        },
        "id": "9E0py0TOKzb7",
        "outputId": "b5773bcb-ce99-4df3-805c-e3ee77fae7a9"
      },
      "execution_count": null,
      "outputs": [
        {
          "output_type": "stream",
          "name": "stdout",
          "text": [
            "Mounted at /content/drive\n",
            "Arquivos CSV encontrados: ['landsat_tm_c2_l2_67043cb3cbdaa80b.csv', 'landsat_tm_c2_l2_67043e6b23f08f67.csv', 'landsat_tm_c2_l2_67043e9dcc36cf49.csv', 'landsat_tm_c2_l2_67043f0d320e7f0a.csv', 'landsat_tm_c2_l2_67043f25b58e48a3.csv', 'landsat_tm_c2_l2_67043f44f4f9f7ba.csv', 'landsat_tm_c2_l2_670440047509ad7b.csv', 'landsat_tm_c2_l2_6704401a19f27569.csv', 'landsat_tm_c2_l2_670440302bdf2e7.csv', 'landsat_tm_c2_l2_670440b22bcc70d1.csv', 'landsat_tm_c2_l2_670440e31cface51.csv', 'landsat_tm_c2_l2_670440f64da0e586.csv', 'landsat_tm_c2_l2_6704411f954bd7d.csv', 'landsat_tm_c2_l2_67044136cbbb2b8a.csv', 'landsat_tm_c2_l2_670441a81ac4a5e8.csv', 'landsat_tm_c2_l2_670441bb5e66a4a0.csv', 'landsat_tm_c2_l2_670441d17afa74b9.csv', 'landsat_tm_c2_l2_670441e7deb764cf.csv', 'landsat_tm_c2_l2_670441fb16b81641.csv', 'landsat_tm_c2_l2_6704420f118411cb.csv', 'landsat_tm_c2_l2_67044268164af914.csv', 'landsat_tm_c2_l2_670442823483668c.csv', 'landsat_tm_c2_l2_670442965338f1b1.csv', 'landsat_tm_c2_l2_670442a8d72a609c.csv', 'landsat_tm_c2_l2_670442c4796c84d5.csv', 'landsat_tm_c2_l2_670442e34064b239.csv', 'landsat_tm_c2_l2_670442f456a5b52b.csv', 'landsat_tm_c2_l2_6704434f9592999d.csv', 'landsat_tm_c2_l2_6704436ef9b2faa5.csv', 'landsat_tm_c2_l2_670443843e07f671.csv', 'landsat_tm_c2_l2_6704439c6606c4d1.csv', 'landsat_tm_c2_l2_670443ab923fc59b.csv', 'landsat_tm_c2_l2_670443be30158ec3.csv', 'landsat_tm_c2_l2_67044424d37c26d7.csv', 'landsat_tm_c2_l2_670444368240f9f.csv', 'landsat_tm_c2_l2_67044449183cad89.csv', 'landsat_tm_c2_l2_6704446f69a97f31.csv', 'landsat_tm_c2_l2_6704447ea6a93e27.csv', 'landsat_tm_c2_l2_670444f3c0ef93f6.csv', 'landsat_tm_c2_l2_6704450a409539e1.csv', 'landsat_tm_c2_l2_67044519d49d085c.csv', 'landsat_tm_c2_l2_6704452aa2ac0066.csv', 'landsat_tm_c2_l2_67044544ef044bc8.csv', 'landsat_tm_c2_l2_67044566a2a8fab9.csv', 'landsat_tm_c2_l2_6704461c22350b03.csv', 'landsat_tm_c2_l2_6704463ba064630f.csv', 'landsat_tm_c2_l2_6704464ce4df00e4.csv', 'landsat_tm_c2_l2_6704465db3ff8044.csv', 'landsat_tm_c2_l2_670446701619f116.csv', 'landsat_tm_c2_l2_6704468b4ad00290.csv', 'landsat_tm_c2_l2_670446a23bf1d194.csv', 'landsat_tm_c2_l2_670446fe84d18daf.csv', 'landsat_tm_c2_l2_67044712e8010306.csv', 'landsat_tm_c2_l2_6704471d8874565f.csv', 'landsat_tm_c2_l2_6704472bb771d9cc.csv', 'landsat_tm_c2_l2_670447454444e350.csv', 'landsat_tm_c2_l2_6704475746e7bc47.csv', 'landsat_tm_c2_l2_670447678fe02f2a.csv', 'landsat_tm_c2_l2_6704483ea38b7ef6.csv', 'landsat_tm_c2_l2_67044860d821e985.csv', 'landsat_tm_c2_l2_6704487023da5966.csv', 'landsat_tm_c2_l2_6704487f3e76b13f.csv', 'landsat_tm_c2_l2_67044891e651cc6a.csv', 'landsat_tm_c2_l2_670448a8ba17ea8a.csv', 'landsat_tm_c2_l2_670448c27e80caf0.csv', 'landsat_tm_c2_l2_670448e7e7f650a3.csv', 'landsat_tm_c2_l2_670449ed7e8899c4.csv', 'landsat_tm_c2_l2_67044a0cff4c2afe.csv', 'landsat_tm_c2_l2_67044a1b8d557764.csv', 'landsat_tm_c2_l2_67044a2c80c6149b.csv', 'landsat_tm_c2_l2_67044a7e99752098.csv', 'landsat_tm_c2_l2_67044ad23e3479d6.csv', 'landsat_tm_c2_l2_67044ae832cfeb14.csv', 'landsat_tm_c2_l2_67044b06dcfcc1a8.csv', 'landsat_tm_c2_l2_67044b19830444fa.csv', 'landsat_tm_c2_l2_67044b29a334c45b.csv', 'landsat_tm_c2_l2_67044b3c7c2aa22d.csv', 'landsat_tm_c2_l2_67044df44d9a65c.csv', 'landsat_tm_c2_l2_67044e09f6f18185.csv', 'landsat_tm_c2_l2_67044ea119a0b30f.csv', 'landsat_tm_c2_l2_67044ebeb6e92228.csv', 'landsat_tm_c2_l2_67044ecde020fdf.csv', 'landsat_tm_c2_l2_67044ee25e2d7296.csv', 'landsat_tm_c2_l2_67044ef5950d1926.csv', 'landsat_tm_c2_l2_67044f02ab8ca838.csv', 'landsat_tm_c2_l2_67044f0f393ce56a.csv', 'landsat_tm_c2_l2_67044f2384c2ed35.csv', 'landsat_tm_c2_l2_67044f306e986dd3.csv', 'landsat_tm_c2_l2_67044fe3b9edb247.csv', 'landsat_tm_c2_l2_67044ff7df297fce.csv', 'landsat_tm_c2_l2_6704500a680a1ce3.csv', 'landsat_tm_c2_l2_67045018c12b8c6d.csv', 'landsat_tm_c2_l2_6704502916954d13.csv', 'landsat_tm_c2_l2_6704504a4d86196d.csv', 'landsat_tm_c2_l2_67045056136df721.csv', 'landsat_tm_c2_l2_6704506d94deaf01.csv', 'landsat_tm_c2_l2_670451175143a638.csv', 'landsat_tm_c2_l2_67045128820cd069.csv', 'landsat_tm_c2_l2_67045135f63f3232.csv', 'landsat_tm_c2_l2_670451b0841cc580.csv', 'landsat_tm_c2_l2_670451bb1c5c7c37.csv', 'landsat_tm_c2_l2_670451cc75565c1c.csv', 'landsat_tm_c2_l2_670451ddbd558f00.csv', 'landsat_tm_c2_l2_670451f065a619ae.csv', 'landsat_tm_c2_l2_67045217727ea3b2.csv', 'landsat_tm_c2_l2_67045223b4ffd5b0.csv', 'landsat_tm_c2_l2_670452341619d1ee.csv', 'landsat_tm_c2_l2_6704524e71e9ab3d.csv', 'landsat_tm_c2_l2_6704525dd5993e46.csv', 'landsat_tm_c2_l2_6704537138a77560.csv', 'landsat_tm_c2_l2_6704538b2dad0353.csv', 'landsat_tm_c2_l2_6704539c1c5175bc.csv', 'landsat_tm_c2_l2_670453ad81f37920.csv', 'landsat_tm_c2_l2_670453d38159dbbb.csv', 'landsat_tm_c2_l2_670453e3e4a06f30.csv', 'landsat_tm_c2_l2_6704545f923a1dea.csv', 'landsat_tm_c2_l2_670454b5142e0d4d.csv', 'landsat_tm_c2_l2_670454ca8a345d3a.csv', 'landsat_tm_c2_l2_67045583a62afc11.csv', 'landsat_tm_c2_l2_67045592737dd25.csv', 'landsat_tm_c2_l2_670455d050bd1eb3.csv', 'landsat_tm_c2_l2_670455ddb0458757.csv', 'landsat_tm_c2_l2_670455e972718d80.csv', 'landsat_tm_c2_l2_670455f620b0b709.csv', 'landsat_tm_c2_l2_67045607c30876bf.csv', 'landsat_tm_c2_l2_670456293900e68f.csv', 'landsat_tm_c2_l2_670aceb5349a0682.csv', 'landsat_tm_c2_l2_670acf1a3623aee.csv', 'landsat_tm_c2_l2_670acf2f6726412f.csv', 'landsat_tm_c2_l2_670acf69923a262c.csv', 'landsat_tm_c2_l2_670acf7d62130b6e.csv', 'landsat_tm_c2_l2_670acfa8298467db.csv', 'landsat_tm_c2_l2_670acfb6c75bd261.csv', 'landsat_tm_c2_l2_670acfc35a5fbaaa.csv', 'landsat_tm_c2_l2_670acfcf21937bb5.csv', 'landsat_tm_c2_l2_670acfe1b8d2e0b6.csv', 'landsat_tm_c2_l2_670ad05270ffd6a8.csv', 'landsat_tm_c2_l2_670ad05eb7151f14.csv', 'landsat_tm_c2_l2_670ad0695ea3780b.csv', 'landsat_tm_c2_l2_670ad085f9ea1776.csv', 'landsat_tm_c2_l2_670ad07833083928.csv', 'landsat_tm_c2_l2_670ad092e8ed7c8a.csv', 'landsat_tm_c2_l2_670ad0ac20886821.csv', 'landsat_tm_c2_l2_670ad0b6e8fe85d7.csv', 'landsat_tm_c2_l2_670ad0cca53a446d.csv', 'landsat_tm_c2_l2_670ad0d8850d6eaf.csv', 'landsat_tm_c2_l2_670ad11ea751c341.csv', 'landsat_tm_c2_l2_670ad12a25ec7f5.csv', 'landsat_tm_c2_l2_670ad13f813b9b49.csv', 'landsat_tm_c2_l2_670ad135a372f9e1.csv', 'landsat_tm_c2_l2_670ad14d1241419c.csv', 'landsat_tm_c2_l2_670ad1583c35e95d.csv', 'landsat_tm_c2_l2_670ad166c5e3eccc.csv', 'landsat_tm_c2_l2_670ad1772c1a56d0.csv', 'landsat_tm_c2_l2_670ad1816c8f55fc.csv', 'landsat_tm_c2_l2_670ad18cfc7f2469.csv', 'landsat_tm_c2_l2_670ad198a5f9424d.csv', 'landsat_tm_c2_l2_670ad2794b2acb5c.csv', 'landsat_tm_c2_l2_670ad28df9c04a8c.csv', 'landsat_tm_c2_l2_670ad2a35a76e990.csv', 'landsat_tm_c2_l2_670ad2b19f452841.csv', 'landsat_tm_c2_l2_670ad2be2dc46358.csv', 'landsat_tm_c2_l2_670ad2cb7e1b4556.csv', 'landsat_tm_c2_l2_670ad2db6fff526.csv', 'landsat_tm_c2_l2_670ad2ec7d9802cf.csv', 'landsat_tm_c2_l2_670ad2f873dd72fe.csv', 'landsat_tm_c2_l2_670ad305a1bb115e.csv', 'landsat_tm_c2_l2_670ad35e4f4e96c.csv', 'landsat_tm_c2_l2_670ad36e722c671f.csv', 'landsat_tm_c2_l2_670ad38294222793.csv', 'landsat_tm_c2_l2_670ad38ea4349931.csv', 'landsat_tm_c2_l2_670ad39c67d01b06.csv', 'landsat_tm_c2_l2_670ad3a51573cebc.csv', 'landsat_tm_c2_l2_670ad3b0bc6c31e7.csv', 'landsat_tm_c2_l2_670ad3baf6885708.csv', 'landsat_tm_c2_l2_670ad4114dd59844.csv', 'landsat_tm_c2_l2_670ad423b6ce2538.csv', 'landsat_tm_c2_l2_670ad43f2b99e956.csv', 'landsat_tm_c2_l2_670ad435879e4d32.csv', 'landsat_tm_c2_l2_670ad44be34a40d0.csv', 'landsat_tm_c2_l2_670ad455eb3275e2.csv']\n",
            "              Landsat Product Identifier L2  \\\n",
            "0  LT05_L2SP_222098_19961110_20200911_02_T2   \n",
            "1  LT05_L2SP_223098_19970205_20200910_02_T1   \n",
            "2  LT05_L2SP_223098_19970221_20200910_02_T2   \n",
            "6  LT05_L2SP_224098_19970127_20200910_02_T2   \n",
            "8  LT05_L2SP_224098_19970212_20200911_02_T2   \n",
            "\n",
            "              Landsat Product Identifier L1 Landsat Scene Identifier  \\\n",
            "0  LT05_L1GS_222098_19961110_20200911_02_T2    LT52220981996315AAA02   \n",
            "1  LT05_L1TP_223098_19970205_20200910_02_T1    LT52230981997036XXX02   \n",
            "2  LT05_L1GS_223098_19970221_20200910_02_T2    LT52230981997052COA00   \n",
            "6  LT05_L1GS_224098_19970127_20200910_02_T2    LT52240981997027XXX01   \n",
            "8  LT05_L1GS_224098_19970212_20200911_02_T2    LT52240981997043XXX02   \n",
            "\n",
            "  Date Acquired Collection Category  Collection Number Sensor Mode  WRS Path  \\\n",
            "0    1996/11/10                  T2                  2         NaN       222   \n",
            "1    1997/02/05                  T1                  2         NaN       223   \n",
            "2    1997/02/21                  T2                  2         SAM       223   \n",
            "6    1997/01/27                  T2                  2         NaN       224   \n",
            "8    1997/02/12                  T2                  2         NaN       224   \n",
            "\n",
            "   WRS Row Full Partial Scene  ... Corner Upper Left Latitude  \\\n",
            "0       98               FULL  ...                  -53.50606   \n",
            "1       98               FULL  ...                  -53.50244   \n",
            "2       98               FULL  ...                  -53.50941   \n",
            "6       98               FULL  ...                  -53.50560   \n",
            "8       98               FULL  ...                  -53.50927   \n",
            "\n",
            "  Corner Upper Left Longitude Corner Upper Right Latitude  \\\n",
            "0                   -62.51494                   -53.90580   \n",
            "1                   -64.06677                   -53.90214   \n",
            "2                   -64.06501                   -53.90918   \n",
            "6                   -65.61279                   -53.90534   \n",
            "8                   -65.61260                   -53.90904   \n",
            "\n",
            "  Corner Upper Right Longitude Corner Lower Left Latitude  \\\n",
            "0                    -59.79541                  -55.04929   \n",
            "1                    -61.34746                  -55.04568   \n",
            "2                    -61.34527                  -55.05263   \n",
            "6                    -62.89328                  -55.04883   \n",
            "8                    -62.89287                  -55.05249   \n",
            "\n",
            "  Corner Lower Left Longitude  Corner Lower Right Latitude  \\\n",
            "0                   -63.34722                    -55.46427   \n",
            "1                   -64.89892                    -55.46062   \n",
            "2                   -64.89740                    -55.46764   \n",
            "6                   -66.44504                    -55.46381   \n",
            "8                   -66.44498                    -55.46750   \n",
            "\n",
            "   Corner Lower Right Longitude                                Display ID  \\\n",
            "0                     -60.52982  LT05_L2SP_222098_19961110_20200911_02_T2   \n",
            "1                     -62.08176  LT05_L2SP_223098_19970205_20200910_02_T1   \n",
            "2                     -62.07978  LT05_L2SP_223098_19970221_20200910_02_T2   \n",
            "6                     -63.62767  LT05_L2SP_224098_19970127_20200910_02_T2   \n",
            "8                     -63.62737  LT05_L2SP_224098_19970212_20200911_02_T2   \n",
            "\n",
            "               Entity ID  \n",
            "0  LT52220981996315AAA02  \n",
            "1  LT52230981997036XXX02  \n",
            "2  LT52230981997052COA00  \n",
            "6  LT52240981997027XXX01  \n",
            "8  LT52240981997043XXX02  \n",
            "\n",
            "[5 rows x 60 columns]\n"
          ]
        }
      ]
    }
  ]
}